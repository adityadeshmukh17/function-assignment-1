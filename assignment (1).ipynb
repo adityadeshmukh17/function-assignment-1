{
 "cells": [
  {
   "cell_type": "code",
   "execution_count": null,
   "id": "1bfe0b69-20e6-4e5f-83fb-ea45f169cc03",
   "metadata": {},
   "outputs": [],
   "source": [
    "q2.Q2. Why *args and **kwargs is used in some functions? Create a function each for *args and **kwargs\n",
    "to demonstrate their use.\n",
    "ans:args and **kwargs are used in some functions when we want to send no of arguments that are dynamicso in this case *args stores them as a tupleand **kwargs store as an dictionary\n",
    "def type1(*args):\n",
    "    return type(args)\n",
    "print(type1(2,3,90.0,[1,2.3]))\n",
    "def access(**kwargs):\n",
    "    return kwargs['c']\n",
    "print(access(a='aditya',b=True,c=90))"
   ]
  },
  {
   "cell_type": "code",
   "execution_count": null,
   "id": "7c69a749-00e5-44cb-a37c-b744df66952f",
   "metadata": {},
   "outputs": [],
   "source": [
    "q1.Q1. Which keyword is used to create a function? Create a function to return a list of odd numbers in the\n",
    "range of 1 to 25.\n",
    "ans:\n",
    "def keyword is used to create a function.\n",
    "def odd(n):\n",
    "    b=[]\n",
    "    for i in range(n):\n",
    "        if i%2 !=0:\n",
    "            b.append(i)\n",
    "    return b\n",
    "a=int(input('enter upto which number u want odd numbers'))\n",
    "c=odd(a+1)\n",
    "print(c"
   ]
  },
  {
   "cell_type": "code",
   "execution_count": null,
   "id": "df662e54-1c49-4e30-b021-dbae18f70c50",
   "metadata": {},
   "outputs": [],
   "source": [
    "Q3. What is an iterator in python? Name the method used to initialise the iterator object and the method\n",
    "used for iteration. Use these methods to print the first five elements of the given list [2, 4, 6, 8, 10, 12, 14,\n",
    "16, 18, 20].\n",
    "ans:iterator means an object which can be made only of iterable objects.like string is a iterable object  but not an iterator.so by making it into iterator we access one by one values of that string object using next().\n",
    "for initialisation iter() and for iteration we use next()\n",
    "c=[2, 4, 6, 8, 10, 12, 14,16, 18, 20]\n",
    "d=iter(c)\n",
    "for i in range(5):\n",
    "    print(next(d))"
   ]
  },
  {
   "cell_type": "code",
   "execution_count": null,
   "id": "c3ecf490-bf94-44d6-9198-621dd9f22d94",
   "metadata": {},
   "outputs": [],
   "source": [
    "Q4. What is a generator function in python? Why yield keyword is used? Give an example of a generator\n",
    "function.\n",
    "generator function will give one by one output not as collectively say forming a list to optimize memory utilisation\n",
    "# yield keyword is used to throw the output for each elements until function terminates instead of return\n",
    "def fib():\n",
    "    a,b=0,1\n",
    "    while True:\n",
    "        yield a\n",
    "        a,b=b,a+b\n",
    "fib1=iter(fib())\n",
    "for i in range(5):\n",
    "    print(next(fib1))"
   ]
  },
  {
   "cell_type": "code",
   "execution_count": null,
   "id": "637b458b-cfde-4122-8486-d95c607fcbf7",
   "metadata": {},
   "outputs": [],
   "source": [
    "Q5. Create a generator function for prime numbers less than 1000. Use the next() method to print the\n",
    "first 20 prime numbers.\n",
    "def prime(a):\n",
    "    while True:\n",
    "        p=a**1/2\n",
    "        q=2\n",
    "        c=False\n",
    "        while q>1 and q<=p:\n",
    "            if a%q==0:\n",
    "                c=True\n",
    "                break\n",
    "            q+=1\n",
    "        if c==False:\n",
    "            yield a\n",
    "        a+=1\n",
    "\n",
    "p1=iter(prime(2))\n",
    "for i in range(20):\n",
    "    print(next(p1))"
   ]
  },
  {
   "cell_type": "code",
   "execution_count": null,
   "id": "217c8493-72bb-47ff-9418-6d7f565e6d34",
   "metadata": {},
   "outputs": [],
   "source": [
    ". Write a python program to print the first 10 Fibonacci numbers using a while loop.\n",
    "def fib(n):\n",
    "    a,b=0,1\n",
    "    c=[]\n",
    "    c.append(a)\n",
    "    i=1\n",
    "    while i<10:\n",
    "        a,b=b,a+b\n",
    "        c.append(a)\n",
    "        i+=1\n",
    "    return c\n",
    "d=fib(10)\n",
    "for i in d:\n",
    "    print(i)"
   ]
  },
  {
   "cell_type": "code",
   "execution_count": null,
   "id": "adaef85c-2231-4719-827a-8db28c2f38d9",
   "metadata": {},
   "outputs": [],
   "source": [
    "\n",
    "Q7. Write a List Comprehension to iterate through the given string: ‘pwskills’.\n",
    "Expected output: ['p', 'w', 's', 'k', 'i', 'l', 'l', 's']\n",
    "s='pwskills'\n",
    "print(list(map(lambda x:x,s)))"
   ]
  },
  {
   "cell_type": "code",
   "execution_count": null,
   "id": "42dc4705-18ce-4c80-9ba7-4f0a5d7c9663",
   "metadata": {},
   "outputs": [],
   "source": [
    "Q8. Write a python program to check whether a given number is Palindrome or not using a while loop.\n",
    "a=int(input('enter the no'))\n",
    "b=str(a) \n",
    "i=0\n",
    "d=len(b)-1\n",
    "s=False\n",
    "while i<d:\n",
    "    if d<i:\n",
    "        break\n",
    "    if b[i]!=b[d-i]:\n",
    "        s=False\n",
    "        break\n",
    "    elif b[i]==b[d-i]:\n",
    "        s=True\n",
    "    \n",
    "    i+=1\n",
    "if s==True:\n",
    "    print('yes it is')\n",
    "else:\n",
    "    print('not it is not')\n",
    "\n"
   ]
  },
  {
   "cell_type": "code",
   "execution_count": null,
   "id": "1e93c617-09c8-4f78-9038-6243de381ef8",
   "metadata": {},
   "outputs": [],
   "source": [
    "Q9. Write a code to print odd numbers from 1 to 100 using list comprehension.\n",
    "print(list(filter(lambda x:x%2!=0,list(range(1,101)))))"
   ]
  },
  {
   "cell_type": "code",
   "execution_count": null,
   "id": "99f33fcb-96c7-4b6c-aad6-73510aed8c5d",
   "metadata": {},
   "outputs": [],
   "source": []
  },
  {
   "cell_type": "code",
   "execution_count": null,
   "id": "c7bcc15c-552c-479e-9ea2-1534e745beed",
   "metadata": {},
   "outputs": [],
   "source": []
  }
 ],
 "metadata": {
  "kernelspec": {
   "display_name": "Python 3 (ipykernel)",
   "language": "python",
   "name": "python3"
  },
  "language_info": {
   "codemirror_mode": {
    "name": "ipython",
    "version": 3
   },
   "file_extension": ".py",
   "mimetype": "text/x-python",
   "name": "python",
   "nbconvert_exporter": "python",
   "pygments_lexer": "ipython3",
   "version": "3.10.8"
  }
 },
 "nbformat": 4,
 "nbformat_minor": 5
}
