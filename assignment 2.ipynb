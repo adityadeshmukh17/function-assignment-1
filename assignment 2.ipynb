{
 "cells": [
  {
   "cell_type": "code",
   "execution_count": 3,
   "id": "88d60be8-e5c2-4ce2-b849-983cf9d05c03",
   "metadata": {},
   "outputs": [
    {
     "name": "stdout",
     "output_type": "stream",
     "text": [
      "['php', 'aba', 'radar', 'level']\n"
     ]
    }
   ],
   "source": [
    "#Q6. Write a python program to find palindromes in the given list of strings using lambda and filter\n",
    "#function.\n",
    "a=['python', 'php', 'aba', 'radar', 'level']\n",
    "print(list(filter(lambda x:x==x[::-1],a)))"
   ]
  },
  {
   "cell_type": "code",
   "execution_count": null,
   "id": "08ef56d7-ce60-492f-a68b-bfc7d069b82a",
   "metadata": {},
   "outputs": [],
   "source": [
    "# Q5. Write a python program to filter the numbers in a given list that are divisible by 2 and 3 using the\n",
    "# filter function\n",
    "c=[2, 3, 6, 9, 27, 60, 90, 120, 55, 46]\n",
    "print(list((filter(lambda x:x%6==0,c))))"
   ]
  },
  {
   "cell_type": "code",
   "execution_count": null,
   "id": "41325bd6-fa74-4d32-8a51-89506833c22f",
   "metadata": {},
   "outputs": [],
   "source": [
    "# Q4. Write a python program using reduce function to compute the product of a list containing numbers\n",
    "# from 1 to 25.\n",
    "from functools import reduce\n",
    "print(reduce(lambda x,y:x*y,range(1,26)))"
   ]
  },
  {
   "cell_type": "code",
   "execution_count": null,
   "id": "0b013f72-1422-4f25-889e-8bf4edc43d5f",
   "metadata": {},
   "outputs": [],
   "source": [
    "#Q3. Write a python program to convert the given list of integers into a tuple of strings. Use map and\n",
    "# lambda functions\n",
    "d= [1, 2, 3, 4, 5, 6, 7, 8, 9, 10]\n",
    "# Expected output: ('1', '2', '3', '4', '5', '6', '7', '8', '9', '10')\n",
    "print(tuple(map(lambda x:str(x),d)))"
   ]
  },
  {
   "cell_type": "code",
   "execution_count": null,
   "id": "b29516d9-1ac3-4a71-9bb0-495d10d7bf69",
   "metadata": {},
   "outputs": [],
   "source": [
    " #Q2. Write a Python Program to find the squares of all the numbers in the given list of integers using\n",
    "# lambda and map functions.\n",
    "# map  funcc=[1, 2, 3, 4, 5, 6, 7, 8, 9,10]\n",
    "print(list(map(lambda x:x**2,c)))\n",
    "lambda \n",
    "a=lambda x:x**2\n",
    "d=[]\n",
    "for i in c:\n",
    "    s=a(i)\n",
    "    d.append(s)\n",
    "print(d)"
   ]
  },
  {
   "cell_type": "code",
   "execution_count": null,
   "id": "a17932f6-efea-401e-82ed-83887c1e6c75",
   "metadata": {},
   "outputs": [],
   "source": []
  },
  {
   "cell_type": "code",
   "execution_count": null,
   "id": "8a960704-09bf-4847-91ba-73ce20d72000",
   "metadata": {},
   "outputs": [],
   "source": []
  },
  {
   "cell_type": "code",
   "execution_count": null,
   "id": "0ddbcd2f-885f-4185-9b4e-165ed30ca656",
   "metadata": {},
   "outputs": [],
   "source": []
  },
  {
   "cell_type": "code",
   "execution_count": null,
   "id": "851acce6-4618-4023-ae68-eba99b06de7b",
   "metadata": {},
   "outputs": [],
   "source": []
  },
  {
   "cell_type": "code",
   "execution_count": null,
   "id": "2fc6afab-dbfd-4393-a3dd-31cd5d9f34bf",
   "metadata": {},
   "outputs": [],
   "source": []
  },
  {
   "cell_type": "code",
   "execution_count": null,
   "id": "8a20fd78-a95b-42ea-a035-e03055590aa6",
   "metadata": {},
   "outputs": [],
   "source": []
  },
  {
   "cell_type": "code",
   "execution_count": null,
   "id": "2efab2e6-6823-45fb-9097-9f4f164ae4aa",
   "metadata": {},
   "outputs": [],
   "source": []
  },
  {
   "cell_type": "code",
   "execution_count": null,
   "id": "7836ef20-d1be-4531-b7fb-449cbcae4235",
   "metadata": {},
   "outputs": [],
   "source": []
  }
 ],
 "metadata": {
  "kernelspec": {
   "display_name": "Python 3 (ipykernel)",
   "language": "python",
   "name": "python3"
  },
  "language_info": {
   "codemirror_mode": {
    "name": "ipython",
    "version": 3
   },
   "file_extension": ".py",
   "mimetype": "text/x-python",
   "name": "python",
   "nbconvert_exporter": "python",
   "pygments_lexer": "ipython3",
   "version": "3.10.8"
  }
 },
 "nbformat": 4,
 "nbformat_minor": 5
}
